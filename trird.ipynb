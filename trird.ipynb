{
  "nbformat": 4,
  "nbformat_minor": 0,
  "metadata": {
    "colab": {
      "provenance": [],
      "authorship_tag": "ABX9TyNI4Dy5OOnGA9eqGxkLlazL",
      "include_colab_link": true
    },
    "kernelspec": {
      "name": "python3",
      "display_name": "Python 3"
    },
    "language_info": {
      "name": "python"
    }
  },
  "cells": [
    {
      "cell_type": "markdown",
      "metadata": {
        "id": "view-in-github",
        "colab_type": "text"
      },
      "source": [
        "<a href=\"https://colab.research.google.com/github/bignick1958/Jupiter/blob/develop/trird.ipynb\" target=\"_parent\"><img src=\"https://colab.research.google.com/assets/colab-badge.svg\" alt=\"Open In Colab\"/></a>"
      ]
    },
    {
      "cell_type": "code",
      "source": [],
      "metadata": {
        "id": "4zpL84pOsc4C"
      },
      "execution_count": null,
      "outputs": []
    },
    {
      "cell_type": "markdown",
      "source": [
        "# **Третий файл**"
      ],
      "metadata": {
        "id": "pwPhpEgnsfrJ"
      }
    },
    {
      "cell_type": "code",
      "execution_count": null,
      "metadata": {
        "id": "wfrwbgZXr0pg",
        "colab": {
          "base_uri": "https://localhost:8080/"
        },
        "outputId": "8ba4f5e1-9542-4092-f2ed-58039faae6d1"
      },
      "outputs": [
        {
          "output_type": "stream",
          "name": "stdout",
          "text": [
            "Hello World\n"
          ]
        }
      ],
      "source": [
        "print('Hello World')"
      ]
    },
    {
      "cell_type": "markdown",
      "source": [
        "$\\sqrt(3x-1)+(1+x)^2$"
      ],
      "metadata": {
        "id": "ZPeedoHIsasF"
      }
    },
    {
      "cell_type": "code",
      "source": [
        "myoutput = \"\"\"\\\n",
        "id_dog\tid_client\tid_credit\tdata_off    summ\n",
        "1\t     \tItSorce\t    \t23\t\t04.10.2018\t1000000\n",
        "2\t\t    Сodewars\t     3\t\t17.01.2019\t20000\n",
        "3\t\t    ItCraft\t     \t17\t\t31.12.2017\t340000\n",
        "4\t\t    SoftVerse\t     1\t\t25.07.2020\t900000\n",
        "5\t\t    ItLand\t     \t44\t\t06.06.2016\t3000000\n",
        "6\t    \tPostCode     \t22\t\t25.07.2019\t830000\n",
        "8\t    \tCraftSource \t13\t\t31.12.2017\t340000\n",
        "9\t      SoftVerse\t     1\t\t25.07.2020\t900000\n",
        "10\t\t  ItCraft\t    \t17\t\t31.12.2017\t340000\"\"\""
      ],
      "metadata": {
        "id": "Mi1PweX5vtY4"
      },
      "execution_count": null,
      "outputs": []
    },
    {
      "cell_type": "code",
      "source": [
        "lines = myoutput.splitlines()\n",
        "lines"
      ],
      "metadata": {
        "colab": {
          "base_uri": "https://localhost:8080/"
        },
        "id": "q3srqV69yQei",
        "outputId": "8c59d62b-7277-4bfc-d479-ec4c634198ee"
      },
      "execution_count": null,
      "outputs": [
        {
          "output_type": "execute_result",
          "data": {
            "text/plain": [
              "['id_dog\\tid_client\\tid_credit\\tdata_off    summ',\n",
              " '1\\t     \\tItSorce\\t    \\t23\\t\\t04.10.2018\\t1000000',\n",
              " '2\\t\\t    Сodewars\\t     3\\t\\t17.01.2019\\t20000',\n",
              " '3\\t\\t    ItCraft\\t     \\t17\\t\\t31.12.2017\\t340000',\n",
              " '4\\t\\t    SoftVerse\\t     1\\t\\t25.07.2020\\t900000',\n",
              " '5\\t\\t    ItLand\\t     \\t44\\t\\t06.06.2016\\t3000000',\n",
              " '6\\t    \\tPostCode     \\t22\\t\\t25.07.2019\\t830000',\n",
              " '8\\t    \\tCraftSource \\t13\\t\\t31.12.2017\\t340000',\n",
              " '9\\t      SoftVerse\\t     1\\t\\t25.07.2020\\t900000',\n",
              " '10\\t\\t  ItCraft\\t    \\t17\\t\\t31.12.2017\\t340000']"
            ]
          },
          "metadata": {},
          "execution_count": 60
        }
      ]
    },
    {
      "cell_type": "code",
      "source": [
        "lines[1].split()"
      ],
      "metadata": {
        "colab": {
          "base_uri": "https://localhost:8080/"
        },
        "id": "bC9F_-TqyrlY",
        "outputId": "c9ccabb5-d408-438f-8e1d-693f8ab2f003"
      },
      "execution_count": null,
      "outputs": [
        {
          "output_type": "execute_result",
          "data": {
            "text/plain": [
              "['1', 'ItSorce', '23', '04.10.2018', '1000000']"
            ]
          },
          "metadata": {},
          "execution_count": 91
        }
      ]
    },
    {
      "cell_type": "code",
      "source": [
        "import numpy as np\n",
        "x_data = []  \n",
        "y_data = []\n",
        "for line in lines[1::]:\n",
        "# do there with each line\n",
        "  words = line.split()\n",
        "  # id_dog = words[0]\n",
        "  # # summ = words[4]\n",
        "  # x_data.append[0]\n",
        "  # y_data.append[4]\n",
        "  #y_data = words[4]\n",
        "  print(words)\n",
        "  \n"
      ],
      "metadata": {
        "colab": {
          "base_uri": "https://localhost:8080/"
        },
        "id": "UONuHh935PjY",
        "outputId": "44fbf612-2f08-4934-aa99-c6db38c68de0"
      },
      "execution_count": null,
      "outputs": [
        {
          "output_type": "stream",
          "name": "stdout",
          "text": [
            "['1', 'ItSorce', '23', '04.10.2018', '1000000']\n",
            "['2', 'Сodewars', '3', '17.01.2019', '20000']\n",
            "['3', 'ItCraft', '17', '31.12.2017', '340000']\n",
            "['4', 'SoftVerse', '1', '25.07.2020', '900000']\n",
            "['5', 'ItLand', '44', '06.06.2016', '3000000']\n",
            "['6', 'PostCode', '22', '25.07.2019', '830000']\n",
            "['8', 'CraftSource', '13', '31.12.2017', '340000']\n",
            "['9', 'SoftVerse', '1', '25.07.2020', '900000']\n",
            "['10', 'ItCraft', '17', '31.12.2017', '340000']\n"
          ]
        }
      ]
    },
    {
      "cell_type": "code",
      "source": [],
      "metadata": {
        "id": "0OtPCiCX6lpG"
      },
      "execution_count": null,
      "outputs": []
    }
  ]
}