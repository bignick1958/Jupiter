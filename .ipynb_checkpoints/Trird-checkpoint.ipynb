{
 "cells": [
  {
   "cell_type": "code",
   "execution_count": null,
   "metadata": {
    "id": "4zpL84pOsc4C"
   },
   "outputs": [],
   "source": []
  },
  {
   "cell_type": "markdown",
   "metadata": {
    "id": "pwPhpEgnsfrJ"
   },
   "source": [
    "# **Третий файл**"
   ]
  },
  {
   "cell_type": "code",
   "execution_count": null,
   "metadata": {
    "colab": {
     "base_uri": "https://localhost:8080/"
    },
    "executionInfo": {
     "elapsed": 298,
     "status": "ok",
     "timestamp": 1664294793249,
     "user": {
      "displayName": "Николай Шапкин",
      "userId": "14327362600418602938"
     },
     "user_tz": -180
    },
    "id": "wfrwbgZXr0pg",
    "outputId": "8ba4f5e1-9542-4092-f2ed-58039faae6d1"
   },
   "outputs": [],
   "source": [
    "print('Hello World')"
   ]
  },
  {
   "cell_type": "markdown",
   "metadata": {
    "id": "ZPeedoHIsasF"
   },
   "source": [
    "$\\sqrt(3x-1)+(1+x)^2$"
   ]
  },
  {
   "cell_type": "code",
   "execution_count": null,
   "metadata": {
    "executionInfo": {
     "elapsed": 357,
     "status": "ok",
     "timestamp": 1664301556659,
     "user": {
      "displayName": "Николай Шапкин",
      "userId": "14327362600418602938"
     },
     "user_tz": -180
    },
    "id": "Mi1PweX5vtY4"
   },
   "outputs": [],
   "source": [
    "myoutput = \"\"\"\\\n",
    "id_dog\tid_client\tid_credit\tdata_off    summ\n",
    "1\t     \tItSorce\t    \t23\t\t04.10.2018\t1000000\n",
    "2\t\t    Сodewars\t     3\t\t17.01.2019\t20000\n",
    "3\t\t    ItCraft\t     \t17\t\t31.12.2017\t340000\n",
    "4\t\t    SoftVerse\t     1\t\t25.07.2020\t900000\n",
    "5\t\t    ItLand\t     \t44\t\t06.06.2016\t3000000\n",
    "6\t    \tPostCode     \t22\t\t25.07.2019\t830000\n",
    "8\t    \tCraftSource \t13\t\t31.12.2017\t340000\n",
    "9\t      SoftVerse\t     1\t\t25.07.2020\t900000\n",
    "10\t\t  ItCraft\t    \t17\t\t31.12.2017\t340000\"\"\""
   ]
  },
  {
   "cell_type": "code",
   "execution_count": null,
   "metadata": {
    "colab": {
     "base_uri": "https://localhost:8080/"
    },
    "executionInfo": {
     "elapsed": 356,
     "status": "ok",
     "timestamp": 1664301601802,
     "user": {
      "displayName": "Николай Шапкин",
      "userId": "14327362600418602938"
     },
     "user_tz": -180
    },
    "id": "q3srqV69yQei",
    "outputId": "8c59d62b-7277-4bfc-d479-ec4c634198ee"
   },
   "outputs": [],
   "source": [
    "lines = myoutput.splitlines()\n",
    "lines"
   ]
  },
  {
   "cell_type": "code",
   "execution_count": null,
   "metadata": {
    "colab": {
     "base_uri": "https://localhost:8080/"
    },
    "executionInfo": {
     "elapsed": 397,
     "status": "ok",
     "timestamp": 1664304892145,
     "user": {
      "displayName": "Николай Шапкин",
      "userId": "14327362600418602938"
     },
     "user_tz": -180
    },
    "id": "bC9F_-TqyrlY",
    "outputId": "c9ccabb5-d408-438f-8e1d-693f8ab2f003"
   },
   "outputs": [],
   "source": [
    "lines[1].split()"
   ]
  },
  {
   "cell_type": "code",
   "execution_count": null,
   "metadata": {
    "colab": {
     "base_uri": "https://localhost:8080/"
    },
    "executionInfo": {
     "elapsed": 392,
     "status": "ok",
     "timestamp": 1664307496468,
     "user": {
      "displayName": "Николай Шапкин",
      "userId": "14327362600418602938"
     },
     "user_tz": -180
    },
    "id": "UONuHh935PjY",
    "outputId": "44fbf612-2f08-4934-aa99-c6db38c68de0"
   },
   "outputs": [],
   "source": [
    "import numpy as np\n",
    "x_data = []  \n",
    "y_data = []\n",
    "for line in lines[1::]:\n",
    "# do there with each line\n",
    "  words = line.split()\n",
    "  # id_dog = words[0]\n",
    "  # # summ = words[4]\n",
    "  # x_data.append[0]\n",
    "  # y_data.append[4]\n",
    "  #y_data = words[4]\n",
    "  print(words)\n",
    "  \n"
   ]
  },
  {
   "cell_type": "code",
   "execution_count": null,
   "metadata": {
    "executionInfo": {
     "elapsed": 379,
     "status": "ok",
     "timestamp": 1664307466335,
     "user": {
      "displayName": "Николай Шапкин",
      "userId": "14327362600418602938"
     },
     "user_tz": -180
    },
    "id": "0OtPCiCX6lpG"
   },
   "outputs": [],
   "source": []
  }
 ],
 "metadata": {
  "colab": {
   "authorship_tag": "ABX9TyNI4Dy5OOnGA9eqGxkLlazL",
   "provenance": [
    {
     "file_id": "1qeGNx3jeSpcsLZxDXkBtusdinF-9vIw_",
     "timestamp": 1664307666455
    },
    {
     "file_id": "1SSzbF9CK8IINTQLPKKlP-HpANIpoNPmW",
     "timestamp": 1664294585323
    }
   ]
  },
  "kernelspec": {
   "display_name": "Python 3 (ipykernel)",
   "language": "python",
   "name": "python3"
  },
  "language_info": {
   "codemirror_mode": {
    "name": "ipython",
    "version": 3
   },
   "file_extension": ".py",
   "mimetype": "text/x-python",
   "name": "python",
   "nbconvert_exporter": "python",
   "pygments_lexer": "ipython3",
   "version": "3.10.7"
  }
 },
 "nbformat": 4,
 "nbformat_minor": 1
}
